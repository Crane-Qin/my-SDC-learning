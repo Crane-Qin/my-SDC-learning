{
 "cells": [
  {
   "cell_type": "code",
   "execution_count": null,
   "metadata": {
    "collapsed": true
   },
   "outputs": [],
   "source": [
    "'''simple nn'''\n",
    "import tensorflow as tf\n",
    "import csv\n",
    "import cv2\n",
    "import numpy as np\n",
    "lines=[]\n",
    "with open('/my_data/driving_log.csv') as csvfile:\n",
    "    reader=csv.reader(csvfile)\n",
    "    for line in reader:\n",
    "        lines.append(line)\n",
    "\n",
    "del lines[0]#删除首行元素\n",
    "#print(lines)\n",
    "\n",
    "images=[]\n",
    "measurements=[]\n",
    "for line in lines:\n",
    "    source_path=line[0]\n",
    "    filename=source_path.split('/')[-1]#\n",
    "    image=cv2.imread('/my_data/IMG/'+filename)\n",
    "    images.append(image)\n",
    "    \n",
    "    measurement=line[3]\n",
    "    #measurement=float(line[3])\n",
    "    #if  isinstance(measurement,(str)): continue\n",
    "    measurement=float(measurement)\n",
    "    measurements.append(measurement)\n",
    "#print (measurements)\n",
    "#print(images[0])\n",
    "\n",
    "\n",
    "X_train=np.array(images)\n",
    "y_train=np.array(measurements)\n",
    "\n",
    "from keras.models import Sequential\n",
    "from keras.layers import Flatten, Dense,Lambda\n",
    "\n",
    "model= Sequential()\n",
    "model.add(Lambda(lambda x: x/255.0-0.5,input_shape=(160,320,3)))\n",
    "model.add(Flatten(input_shape=(160,320,3)))\n",
    "model.add(Dense(1))\n",
    "\n",
    "model.compile(loss='mse',optimizer='adam')\n",
    "model.fit(X_train,y_train,validation_split=0.2,shuffle=True,epochs=3)#nb_epoch默认10,\n",
    "\n",
    "model.save('model2.h5')\n"
   ]
  },
  {
   "cell_type": "code",
   "execution_count": null,
   "metadata": {
    "collapsed": true
   },
   "outputs": [],
   "source": []
  }
 ],
 "metadata": {
  "kernelspec": {
   "display_name": "Python 3",
   "language": "python",
   "name": "python3"
  },
  "language_info": {
   "codemirror_mode": {
    "name": "ipython",
    "version": 3
   },
   "file_extension": ".py",
   "mimetype": "text/x-python",
   "name": "python",
   "nbconvert_exporter": "python",
   "pygments_lexer": "ipython3",
   "version": "3.6.2"
  }
 },
 "nbformat": 4,
 "nbformat_minor": 2
}
